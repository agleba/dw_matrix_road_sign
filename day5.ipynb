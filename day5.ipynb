{
  "nbformat": 4,
  "nbformat_minor": 0,
  "metadata": {
    "colab": {
      "name": "day5.ipynb",
      "provenance": [],
      "mount_file_id": "1yLdh3f3-23OCBwVvre0kMySpuBpn-R_a",
      "authorship_tag": "ABX9TyM4fY9XLswSITIXNZYBf0IO",
      "include_colab_link": true
    },
    "kernelspec": {
      "name": "python3",
      "display_name": "Python 3"
    },
    "accelerator": "GPU"
  },
  "cells": [
    {
      "cell_type": "markdown",
      "metadata": {
        "id": "view-in-github",
        "colab_type": "text"
      },
      "source": [
        "<a href=\"https://colab.research.google.com/github/agleba/dw_matrix_road_sign/blob/master/day5.ipynb\" target=\"_parent\"><img src=\"https://colab.research.google.com/assets/colab-badge.svg\" alt=\"Open In Colab\"/></a>"
      ]
    },
    {
      "cell_type": "code",
      "metadata": {
        "id": "KracL6tJbKQG",
        "colab_type": "code",
        "colab": {
          "base_uri": "https://localhost:8080/",
          "height": 190
        },
        "outputId": "c87961e7-b58f-4c66-87ff-80f68a7829eb"
      },
      "source": [
        "!pip install hyperopt"
      ],
      "execution_count": 18,
      "outputs": [
        {
          "output_type": "stream",
          "text": [
            "Requirement already satisfied: hyperopt in /usr/local/lib/python3.6/dist-packages (0.1.2)\n",
            "Requirement already satisfied: networkx in /usr/local/lib/python3.6/dist-packages (from hyperopt) (2.4)\n",
            "Requirement already satisfied: numpy in /usr/local/lib/python3.6/dist-packages (from hyperopt) (1.18.2)\n",
            "Requirement already satisfied: tqdm in /usr/local/lib/python3.6/dist-packages (from hyperopt) (4.38.0)\n",
            "Requirement already satisfied: pymongo in /usr/local/lib/python3.6/dist-packages (from hyperopt) (3.10.1)\n",
            "Requirement already satisfied: scipy in /usr/local/lib/python3.6/dist-packages (from hyperopt) (1.4.1)\n",
            "Requirement already satisfied: six in /usr/local/lib/python3.6/dist-packages (from hyperopt) (1.12.0)\n",
            "Requirement already satisfied: future in /usr/local/lib/python3.6/dist-packages (from hyperopt) (0.16.0)\n",
            "Requirement already satisfied: decorator>=4.3.0 in /usr/local/lib/python3.6/dist-packages (from networkx->hyperopt) (4.4.2)\n"
          ],
          "name": "stdout"
        }
      ]
    },
    {
      "cell_type": "code",
      "metadata": {
        "id": "YQP-KEpvbqAl",
        "colab_type": "code",
        "colab": {
          "base_uri": "https://localhost:8080/",
          "height": 51
        },
        "outputId": "459818bc-8449-4d29-80f3-51aca4c5f8e2"
      },
      "source": [
        "import pandas as pd\n",
        "import numpy as np\n",
        " \n",
        "import os\n",
        "import datetime\n",
        "\n",
        "import tensorflow as tf\n",
        "from tensorflow.keras.models import Sequential\n",
        "from tensorflow.keras.layers import Conv2D, MaxPool2D, Dense, Flatten, Dropout\n",
        "from tensorflow.keras.utils import to_categorical\n",
        "%load_ext tensorboard\n",
        "\n",
        "import matplotlib.pyplot as plt\n",
        "from skimage import color, exposure\n",
        "\n",
        "from sklearn.metrics import accuracy_score\n",
        "\n",
        "from hyperopt import hp, STATUS_OK, tpe, Trials, fmin"
      ],
      "execution_count": 29,
      "outputs": [
        {
          "output_type": "stream",
          "text": [
            "The tensorboard extension is already loaded. To reload it, use:\n",
            "  %reload_ext tensorboard\n"
          ],
          "name": "stdout"
        }
      ]
    },
    {
      "cell_type": "code",
      "metadata": {
        "id": "BsNE4ZWTb5tv",
        "colab_type": "code",
        "colab": {
          "base_uri": "https://localhost:8080/",
          "height": 34
        },
        "outputId": "5d5ca3e1-5700-4604-ab9a-382a689228b9"
      },
      "source": [
        "cd '/content/drive/My Drive/Colab Notebooks/matrix/matrix_three/dw_matrix_road_sign'"
      ],
      "execution_count": 20,
      "outputs": [
        {
          "output_type": "stream",
          "text": [
            "/content/drive/My Drive/Colab Notebooks/matrix/matrix_three/dw_matrix_road_sign\n"
          ],
          "name": "stdout"
        }
      ]
    },
    {
      "cell_type": "code",
      "metadata": {
        "id": "CaX0GKnDb9Mr",
        "colab_type": "code",
        "colab": {}
      },
      "source": [
        "train = pd.read_pickle('data/train.p')\n",
        "test = pd.read_pickle('data/test.p')\n",
        "\n",
        "x_train, y_train = train['features'], train['labels']\n",
        "x_test, y_test = test['features'], test['labels']"
      ],
      "execution_count": 0,
      "outputs": []
    },
    {
      "cell_type": "code",
      "metadata": {
        "id": "ElYIzFkBcAPU",
        "colab_type": "code",
        "colab": {}
      },
      "source": [
        "if y_train.ndim == 1: y_train = to_categorical(y_train)\n",
        "if y_test.ndim == 1: y_test = to_categorical(y_test)\n",
        "\n",
        "input_shape = x_train.shape[1:]\n",
        "num_classes = y_train.shape[1]"
      ],
      "execution_count": 0,
      "outputs": []
    },
    {
      "cell_type": "code",
      "metadata": {
        "id": "Ql_SbINydOcF",
        "colab_type": "code",
        "colab": {}
      },
      "source": [
        "def train_and_predict(model):\n",
        "  model_trained = train_model(model, x_train, y_train)\n",
        "  return predict(model_trained, x_test, y_test)\n"
      ],
      "execution_count": 0,
      "outputs": []
    },
    {
      "cell_type": "code",
      "metadata": {
        "id": "T9Ujz-hScDLd",
        "colab_type": "code",
        "colab": {}
      },
      "source": [
        "def train_model(model, x_train, y_train, params_fit={}):\n",
        "  model.compile(loss='categorical_crossentropy', optimizer='Adam', metrics=['accuracy'])\n",
        "  \n",
        "\n",
        "\n",
        "  logdir = os.path.join(\"logs\", datetime.datetime.now().strftime(\"%Y%m%d-%H%M%S\"))\n",
        "  tensorboard_callback = tf.keras.callbacks.TensorBoard(logdir, histogram_freq=1)\n",
        "\n",
        "\n",
        "  model.fit(\n",
        "      x_train, \n",
        "      y_train,\n",
        "      batch_size=params_fit.get('batch_size', 128),\n",
        "      epochs=params_fit.get('epochs', 5),\n",
        "      verbose=params_fit.get('verbose', 1),\n",
        "      validation_data=params_fit.get('validation_data', (x_train, y_train)),\n",
        "      callbacks=[tensorboard_callback]\n",
        "\n",
        ")\n",
        "  \n",
        "  return model\n",
        "\n",
        "def predict(model_trained, x_test, y_test, scoring=accuracy_score):\n",
        "\n",
        "  y_test_norm = np.argmax(y_test, axis=1)\n",
        "\n",
        "  y_pred_prob = model_trained.predict(x_test)\n",
        "  y_pred = np.argmax( y_pred_prob, axis=1 )\n",
        "\n",
        "  return scoring(y_test_norm, y_pred)"
      ],
      "execution_count": 0,
      "outputs": []
    },
    {
      "cell_type": "code",
      "metadata": {
        "id": "6ny693BacU88",
        "colab_type": "code",
        "colab": {}
      },
      "source": [
        "def get_cnn_v5(input_shape, num_classes):\n",
        "  return Sequential([\n",
        "  Conv2D(filters=32, kernel_size =(3,3), activation='relu', input_shape=input_shape),\n",
        "  Conv2D(filters=32, kernel_size =(3,3), activation='relu', padding='same'),\n",
        "  MaxPool2D(),\n",
        "  Dropout(0.3),\n",
        "\n",
        "  Conv2D(filters=64, kernel_size =(3,3), activation='relu', padding='same'),\n",
        "  Conv2D(filters=64, kernel_size =(3,3), activation='relu'),\n",
        "  MaxPool2D(),\n",
        "  Dropout(0.3),\n",
        "\n",
        "  Conv2D(filters=64, kernel_size =(3,3), activation='relu', padding='same'),\n",
        "  Conv2D(filters=64, kernel_size =(3,3), activation='relu'),\n",
        "  MaxPool2D(),\n",
        "  Dropout(0.3),\n",
        "\n",
        "\n",
        "  Flatten(),\n",
        "  \n",
        "  Dense(1024, activation='relu'),\n",
        "  Dropout(0.3),\n",
        "\n",
        "  Dense(1024, activation='relu'),\n",
        "  Dropout(0.3),\n",
        "\n",
        "  Dense(num_classes, activation='softmax'),\n",
        "])\n",
        "\n",
        "\n",
        "\n",
        "#train_and_predict(get_cnn_v5(input_shape, num_classes))"
      ],
      "execution_count": 0,
      "outputs": []
    },
    {
      "cell_type": "code",
      "metadata": {
        "id": "JADraw69cwwF",
        "colab_type": "code",
        "colab": {
          "base_uri": "https://localhost:8080/",
          "height": 224
        },
        "outputId": "9571c67e-3892-4dd5-e798-ef3ed9b511ce"
      },
      "source": [
        "model = get_cnn_v5(input_shape, num_classes)\n",
        "model_trained = train_model(model, x_train, y_train)\n",
        "\n",
        "predict(model_trained, x_test, y_test)"
      ],
      "execution_count": 26,
      "outputs": [
        {
          "output_type": "stream",
          "text": [
            "Epoch 1/5\n",
            "272/272 [==============================] - 4s 14ms/step - loss: 2.9203 - accuracy: 0.2166 - val_loss: 1.5224 - val_accuracy: 0.5113\n",
            "Epoch 2/5\n",
            "272/272 [==============================] - 4s 14ms/step - loss: 1.1378 - accuracy: 0.6280 - val_loss: 0.3327 - val_accuracy: 0.8921\n",
            "Epoch 3/5\n",
            "272/272 [==============================] - 4s 14ms/step - loss: 0.5380 - accuracy: 0.8291 - val_loss: 0.1220 - val_accuracy: 0.9657\n",
            "Epoch 4/5\n",
            "272/272 [==============================] - 4s 14ms/step - loss: 0.3232 - accuracy: 0.9003 - val_loss: 0.0692 - val_accuracy: 0.9791\n",
            "Epoch 5/5\n",
            "272/272 [==============================] - 4s 14ms/step - loss: 0.2488 - accuracy: 0.9238 - val_loss: 0.0511 - val_accuracy: 0.9870\n"
          ],
          "name": "stdout"
        },
        {
          "output_type": "execute_result",
          "data": {
            "text/plain": [
              "0.953514739229025"
            ]
          },
          "metadata": {
            "tags": []
          },
          "execution_count": 26
        }
      ]
    },
    {
      "cell_type": "code",
      "metadata": {
        "id": "ZmrKIPt9eQa4",
        "colab_type": "code",
        "colab": {
          "base_uri": "https://localhost:8080/",
          "height": 51
        },
        "outputId": "b733d04d-6940-43f1-8c6e-f3d26da1bd19"
      },
      "source": [
        "model_trained.evaluate(x_test, y_test)[1]"
      ],
      "execution_count": 28,
      "outputs": [
        {
          "output_type": "stream",
          "text": [
            "138/138 [==============================] - 0s 3ms/step - loss: 0.1594 - accuracy: 0.9535\n"
          ],
          "name": "stdout"
        },
        {
          "output_type": "execute_result",
          "data": {
            "text/plain": [
              "0.9535147547721863"
            ]
          },
          "metadata": {
            "tags": []
          },
          "execution_count": 28
        }
      ]
    },
    {
      "cell_type": "code",
      "metadata": {
        "id": "V_y6HHFxjz94",
        "colab_type": "code",
        "colab": {}
      },
      "source": [
        "def get_model(params):\n",
        "  return Sequential([\n",
        "  Conv2D(filters=32, kernel_size =(3,3), activation='relu', input_shape=input_shape),\n",
        "  Conv2D(filters=32, kernel_size =(3,3), activation='relu', padding='same'),\n",
        "  MaxPool2D(),\n",
        "  Dropout(params['dropout_cnn_block_one']),\n",
        "\n",
        "  Conv2D(filters=64, kernel_size =(3,3), activation='relu', padding='same'),\n",
        "  Conv2D(filters=64, kernel_size =(3,3), activation='relu'),\n",
        "  MaxPool2D(),\n",
        "  Dropout(params['dropout_cnn_block_two']),\n",
        "\n",
        "  Conv2D(filters=128, kernel_size =(3,3), activation='relu', padding='same'),\n",
        "  Conv2D(filters=128, kernel_size =(3,3), activation='relu'),\n",
        "  MaxPool2D(),\n",
        "  Dropout(params['dropout_cnn_block_three']),\n",
        "\n",
        "\n",
        "  Flatten(),\n",
        "  \n",
        "  Dense(1024, activation='relu'),\n",
        "  Dropout(params['dropout_dense_block_one']),\n",
        "\n",
        "  Dense(1024, activation='relu'),\n",
        "  Dropout(params['dropout_dense_block_two']),\n",
        "\n",
        "  Dense(num_classes, activation='softmax'),\n",
        "])\n"
      ],
      "execution_count": 0,
      "outputs": []
    },
    {
      "cell_type": "code",
      "metadata": {
        "id": "psF2UpZIdkRf",
        "colab_type": "code",
        "colab": {}
      },
      "source": [
        "def func_obj(params):\n",
        "  model = get_model( params )\n",
        "  model.compile(loss='categorical_crossentropy', optimizer='Adam', metrics=['accuracy'])\n",
        "  \n",
        "\n",
        "  model.fit(\n",
        "      x_train, \n",
        "      y_train,\n",
        "      batch_size=128, #int(params.get('batch_size', 128)),\n",
        "      epochs=5,\n",
        "      verbose=0\n",
        ")\n",
        "  \n",
        "  score = model.evaluate(x_test, y_test, verbose=0)\n",
        "  accuracy = score[1]\n",
        "  print(params, 'accuracy={}'.format(accuracy))\n",
        "  return {'loss': -accuracy, 'status': STATUS_OK, 'model': model}"
      ],
      "execution_count": 0,
      "outputs": []
    },
    {
      "cell_type": "code",
      "metadata": {
        "id": "rEhOTApIgII2",
        "colab_type": "code",
        "colab": {
          "base_uri": "https://localhost:8080/",
          "height": 1000
        },
        "outputId": "28ec81c7-5ab9-492b-d75d-82b16af7664c"
      },
      "source": [
        "space = {\n",
        "    'batch_size': hp.quniform('batch_size', 100, 200, 10),\n",
        "    'dropout_cnn_block_one': hp.uniform('dropout_cnn_block_one', 0.3, 0.5),\n",
        "    'dropout_cnn_block_two': hp.uniform('dropout_cnn_block_two', 0.3, 0.5),\n",
        "    'dropout_cnn_block_three': hp.uniform('dropout_cnn_block_three', 0.3, 0.5),\n",
        "\n",
        "    'dropout_dense_block_one': hp.uniform('dropout_dense_block_one', 0.3, 0.7),\n",
        "    'dropout_dense_block_two': hp.uniform('dropout_dense_block_two', 0.3, 0.7),\n",
        "}\n",
        "\n",
        "best = fmin(\n",
        "    func_obj, \n",
        "    space,\n",
        "    tpe.suggest,\n",
        "    30,\n",
        "    Trials()\n",
        ")"
      ],
      "execution_count": 51,
      "outputs": [
        {
          "output_type": "stream",
          "text": [
            "{'batch_size': 190.0, 'dropout_cnn_block_one': 0.4005541769353813, 'dropout_cnn_block_three': 0.4951357310577966, 'dropout_cnn_block_two': 0.38802578132741555, 'dropout_dense_block_one': 0.36393007230986674, 'dropout_dense_block_two': 0.38899716314629984}\n",
            "accuracy=0.9124716520309448\n",
            "{'batch_size': 180.0, 'dropout_cnn_block_one': 0.44594051105791965, 'dropout_cnn_block_three': 0.4637595640521095, 'dropout_cnn_block_two': 0.4425781197072558, 'dropout_dense_block_one': 0.6440693300016196, 'dropout_dense_block_two': 0.3311805940429217}\n",
            "accuracy=0.9310657382011414\n",
            "{'batch_size': 160.0, 'dropout_cnn_block_one': 0.3654134637328182, 'dropout_cnn_block_three': 0.4894259008336036, 'dropout_cnn_block_two': 0.3013022494305681, 'dropout_dense_block_one': 0.428809259493892, 'dropout_dense_block_two': 0.49178647472313464}\n",
            "accuracy=0.9451247453689575\n",
            "{'batch_size': 170.0, 'dropout_cnn_block_one': 0.4822328119351956, 'dropout_cnn_block_three': 0.43856606811398846, 'dropout_cnn_block_two': 0.32927483386073736, 'dropout_dense_block_one': 0.571276848674955, 'dropout_dense_block_two': 0.5292660873076166}\n",
            "accuracy=0.9253968000411987\n",
            "{'batch_size': 120.0, 'dropout_cnn_block_one': 0.3032847992562403, 'dropout_cnn_block_three': 0.45458667682067416, 'dropout_cnn_block_two': 0.3890531941668277, 'dropout_dense_block_one': 0.5029689567274886, 'dropout_dense_block_two': 0.5612842437543002}\n",
            "accuracy=0.9374149441719055\n",
            "{'batch_size': 100.0, 'dropout_cnn_block_one': 0.3704849557810229, 'dropout_cnn_block_three': 0.36317368987968296, 'dropout_cnn_block_two': 0.44060566201857787, 'dropout_dense_block_one': 0.6490153082349802, 'dropout_dense_block_two': 0.4283497763143509}\n",
            "accuracy=0.9145124554634094\n",
            "{'batch_size': 120.0, 'dropout_cnn_block_one': 0.4039203262973024, 'dropout_cnn_block_three': 0.3768638856566234, 'dropout_cnn_block_two': 0.3316435958839873, 'dropout_dense_block_one': 0.6071110829066884, 'dropout_dense_block_two': 0.48541668468387617}\n",
            "accuracy=0.9018140435218811\n",
            "{'batch_size': 190.0, 'dropout_cnn_block_one': 0.3634613014521891, 'dropout_cnn_block_three': 0.43025368201447567, 'dropout_cnn_block_two': 0.3802148310008291, 'dropout_dense_block_one': 0.6529241337964251, 'dropout_dense_block_two': 0.47081040006791636}\n",
            "accuracy=0.9362812042236328\n",
            "{'batch_size': 120.0, 'dropout_cnn_block_one': 0.443101717994466, 'dropout_cnn_block_three': 0.31597504677022464, 'dropout_cnn_block_two': 0.4612386878038012, 'dropout_dense_block_one': 0.5032156299190259, 'dropout_dense_block_two': 0.5265675855821101}\n",
            "accuracy=0.945805013179779\n",
            "{'batch_size': 180.0, 'dropout_cnn_block_one': 0.4608836196107217, 'dropout_cnn_block_three': 0.4795881391135442, 'dropout_cnn_block_two': 0.4866647189264667, 'dropout_dense_block_one': 0.3354531245247045, 'dropout_dense_block_two': 0.42424321836840573}\n",
            "accuracy=0.956916093826294\n",
            "{'batch_size': 190.0, 'dropout_cnn_block_one': 0.46021068295776546, 'dropout_cnn_block_three': 0.4741687457029364, 'dropout_cnn_block_two': 0.40687669505503743, 'dropout_dense_block_one': 0.6768446279040204, 'dropout_dense_block_two': 0.6891940463138676}\n",
            "accuracy=0.6451247334480286\n",
            "{'batch_size': 140.0, 'dropout_cnn_block_one': 0.4266248721153356, 'dropout_cnn_block_three': 0.3889634991305211, 'dropout_cnn_block_two': 0.3060311838754282, 'dropout_dense_block_one': 0.4755197196379469, 'dropout_dense_block_two': 0.42228710817233744}\n",
            "accuracy=0.9356009364128113\n",
            "{'batch_size': 110.0, 'dropout_cnn_block_one': 0.46207219210589323, 'dropout_cnn_block_three': 0.48979847177207386, 'dropout_cnn_block_two': 0.43656087494897, 'dropout_dense_block_one': 0.37290980423047576, 'dropout_dense_block_two': 0.4052900016600636}\n",
            "accuracy=0.8802720904350281\n",
            "{'batch_size': 110.0, 'dropout_cnn_block_one': 0.4769674051994554, 'dropout_cnn_block_three': 0.40809741981081354, 'dropout_cnn_block_two': 0.4629401076634712, 'dropout_dense_block_one': 0.6288997419365908, 'dropout_dense_block_two': 0.6863670642297461}\n",
            "accuracy=0.8560090661048889\n",
            "{'batch_size': 150.0, 'dropout_cnn_block_one': 0.41851625620545746, 'dropout_cnn_block_three': 0.4446610037659401, 'dropout_cnn_block_two': 0.31227976179909067, 'dropout_dense_block_one': 0.41038803961472503, 'dropout_dense_block_two': 0.6365985294731951}\n",
            "accuracy=0.9630385637283325\n",
            "{'batch_size': 140.0, 'dropout_cnn_block_one': 0.3625578875052715, 'dropout_cnn_block_three': 0.46207355460164273, 'dropout_cnn_block_two': 0.33331696383015014, 'dropout_dense_block_one': 0.3981070560252968, 'dropout_dense_block_two': 0.6013456367799844}\n",
            "accuracy=0.9734693765640259\n",
            "{'batch_size': 140.0, 'dropout_cnn_block_one': 0.4460165424481291, 'dropout_cnn_block_three': 0.319157867841385, 'dropout_cnn_block_two': 0.33230944161219167, 'dropout_dense_block_one': 0.30411858174295164, 'dropout_dense_block_two': 0.35528077497809196}\n",
            "accuracy=0.9274376630783081\n",
            "{'batch_size': 120.0, 'dropout_cnn_block_one': 0.3652160020472471, 'dropout_cnn_block_three': 0.4802792365691374, 'dropout_cnn_block_two': 0.46891986328177326, 'dropout_dense_block_one': 0.6880126866024929, 'dropout_dense_block_two': 0.5143328920308591}\n",
            "accuracy=0.8326530456542969\n",
            "{'batch_size': 140.0, 'dropout_cnn_block_one': 0.42695512321581675, 'dropout_cnn_block_three': 0.445150669882189, 'dropout_cnn_block_two': 0.41434726469429456, 'dropout_dense_block_one': 0.44809708606325593, 'dropout_dense_block_two': 0.6628234954031719}\n",
            "accuracy=0.9433106780052185\n",
            "{'batch_size': 130.0, 'dropout_cnn_block_one': 0.37978631887501, 'dropout_cnn_block_three': 0.3726552484668242, 'dropout_cnn_block_two': 0.4939511936990554, 'dropout_dense_block_one': 0.5224827760792267, 'dropout_dense_block_two': 0.48318092689819314}\n",
            "accuracy=0.9365079402923584\n",
            "{'batch_size': 160.0, 'dropout_cnn_block_one': 0.33104548780769893, 'dropout_cnn_block_three': 0.42163529743298284, 'dropout_cnn_block_two': 0.3599595026951295, 'dropout_dense_block_one': 0.4124431597802397, 'dropout_dense_block_two': 0.6187210676434242}\n",
            "accuracy=0.9736961722373962\n",
            "{'batch_size': 160.0, 'dropout_cnn_block_one': 0.32583474309851895, 'dropout_cnn_block_three': 0.41947254744817025, 'dropout_cnn_block_two': 0.36112549184898596, 'dropout_dense_block_one': 0.39344733004042515, 'dropout_dense_block_two': 0.6067236719819138}\n",
            "accuracy=0.9714285731315613\n",
            "{'batch_size': 160.0, 'dropout_cnn_block_one': 0.3389492830648489, 'dropout_cnn_block_three': 0.3498966320125069, 'dropout_cnn_block_two': 0.35824016373341905, 'dropout_dense_block_one': 0.3096135484200179, 'dropout_dense_block_two': 0.5898092698295757}\n",
            "accuracy=0.9498866200447083\n",
            "{'batch_size': 150.0, 'dropout_cnn_block_one': 0.3018301473071799, 'dropout_cnn_block_three': 0.4135402928797261, 'dropout_cnn_block_two': 0.35891372191271986, 'dropout_dense_block_one': 0.46196551454832074, 'dropout_dense_block_two': 0.6301185563611615}\n",
            "accuracy=0.9589568972587585\n",
            "{'batch_size': 170.0, 'dropout_cnn_block_one': 0.3393344326199364, 'dropout_cnn_block_three': 0.39509950904283186, 'dropout_cnn_block_two': 0.3459375363006126, 'dropout_dense_block_one': 0.5402138888675234, 'dropout_dense_block_two': 0.5738126458209679}\n",
            "accuracy=0.9498866200447083\n",
            "{'batch_size': 130.0, 'dropout_cnn_block_one': 0.32132736418218816, 'dropout_cnn_block_three': 0.42410651664099913, 'dropout_cnn_block_two': 0.37495329538971983, 'dropout_dense_block_one': 0.3455187289456234, 'dropout_dense_block_two': 0.5539770290103729}\n",
            "accuracy=0.9698412418365479\n",
            "{'batch_size': 170.0, 'dropout_cnn_block_one': 0.3477330189434425, 'dropout_cnn_block_three': 0.4597845809541965, 'dropout_cnn_block_two': 0.31603832994808434, 'dropout_dense_block_one': 0.4058619670870931, 'dropout_dense_block_two': 0.646468814380094}\n",
            "accuracy=0.9684807062149048\n",
            "{'batch_size': 150.0, 'dropout_cnn_block_one': 0.3846798238549106, 'dropout_cnn_block_three': 0.33427035457074133, 'dropout_cnn_block_two': 0.34572983505657845, 'dropout_dense_block_one': 0.43571449815201657, 'dropout_dense_block_two': 0.6097081905154844}\n",
            "accuracy=0.9501133561134338\n",
            "{'batch_size': 130.0, 'dropout_cnn_block_one': 0.31559433218712274, 'dropout_cnn_block_three': 0.40252456268024245, 'dropout_cnn_block_two': 0.3956324807600911, 'dropout_dense_block_one': 0.37093226533751994, 'dropout_dense_block_two': 0.6694574686269149}\n",
            "accuracy=0.9396825432777405\n",
            "{'batch_size': 200.0, 'dropout_cnn_block_one': 0.39725038375559923, 'dropout_cnn_block_three': 0.4969650110404113, 'dropout_cnn_block_two': 0.37143689302591243, 'dropout_dense_block_one': 0.32963814309050515, 'dropout_dense_block_two': 0.6069811781836931}\n",
            "accuracy=0.9548752903938293\n",
            "100%|██████████| 30/30 [05:34<00:00, 11.14s/it, best loss: -0.9736961722373962]\n"
          ],
          "name": "stdout"
        }
      ]
    }
  ]
}